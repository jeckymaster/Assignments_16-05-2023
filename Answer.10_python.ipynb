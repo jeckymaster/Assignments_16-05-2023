{
 "cells": [
  {
   "cell_type": "markdown",
   "id": "423acf97",
   "metadata": {},
   "source": [
    "Write a program to count the number of verbs, nouns, pronouns, and adjectives in a given particular phrase or paragraph, and return their respective count as a dictionary.\n",
    "Note -\n",
    "1. Write code comments wherever required for code\n",
    "2. You have to write at least 2 additional test cases in which your program will run successfully and provide an explanation for the same.\n",
    "\n",
    "Example Output :-\n",
    "\n",
    "#### dct = {\n",
    "####    \"nouns\":\"count of nouns\"\n",
    "####    \"pronouns\":\"count of pronouns\"\n",
    "####    \"verbs\":\"count of verbs\"\n",
    "####    \"adjectives\":\"count of adjectives\"\n",
    "#### }"
   ]
  },
  {
   "cell_type": "markdown",
   "id": "21506832",
   "metadata": {},
   "source": [
    "Reference : https://www.geeksforgeeks.org/part-speech-tagging-stop-words-using-nltk-python/\n",
    "          : https://www.geeksforgeeks.org/nlp-part-of-speech-default-tagging/\n",
    "          \n",
    "- CC coordinating conjunction \n",
    "- CD cardinal digit \n",
    "- DT determiner \n",
    "- EX existential there (like: “there is” … think of it like “there exists”) \n",
    "- FW foreign word \n",
    "- IN preposition/subordinating conjunction \n",
    "- JJ adjective – ‘big’ \n",
    "- JJR adjective, comparative – ‘bigger’ \n",
    "- JJS adjective, superlative – ‘biggest’ \n",
    "- LS list marker 1) \n",
    "- MD modal – could, will \n",
    "- NN noun, singular ‘- desk’ \n",
    "- NNS noun plural – ‘desks’ \n",
    "- NNP proper noun, singular – ‘Harrison’ \n",
    "- NNPS proper noun, plural – ‘Americans’ \n",
    "- PDT predeterminer – ‘all the kids’ \n",
    "- POS possessive ending parent’s \n",
    "- PRP personal pronoun –  I, he, she \n",
    "- RB adverb – very, silently\n",
    "- RBR adverb, comparative – better \n",
    "- RBS adverb, superlative – best \n",
    "- RP particle – give up \n",
    "- TO – to go ‘to’ the store. \n",
    "- UH interjection – errrrrrrrm \n",
    "- VB verb, base form – take \n",
    "- VBD verb, past tense – took \n",
    "- VBG verb, gerund/present participle – taking \n",
    "- VBN verb, past participle – taken \n",
    "- VBP verb, sing. present, non-3d – take \n",
    "- VBZ verb, 3rd person sing. present – takes \n",
    "- WDT wh-determiner – which \n",
    "- WP wh-pronoun – who, what \n",
    "- WRB wh-adverb, eg- where, when\n",
    "- PRP(dollar) possessive pronoun – my, his, hers\n",
    "- WP(dollar) possessive wh-pronoun, eg- whose"
   ]
  },
  {
   "cell_type": "code",
   "execution_count": 2,
   "id": "db440a55",
   "metadata": {},
   "outputs": [],
   "source": [
    "import nltk\n",
    "from nltk.tokenize import word_tokenize\n",
    "from nltk.tag import pos_tag"
   ]
  },
  {
   "cell_type": "code",
   "execution_count": 3,
   "id": "cd138ada",
   "metadata": {},
   "outputs": [],
   "source": [
    "words = word_tokenize(\"My love to play cricket. it is my dream to meed Sachin.\")"
   ]
  },
  {
   "cell_type": "code",
   "execution_count": 4,
   "id": "1ed0c491",
   "metadata": {},
   "outputs": [
    {
     "data": {
      "text/plain": [
       "['My',\n",
       " 'love',\n",
       " 'to',\n",
       " 'play',\n",
       " 'cricket',\n",
       " '.',\n",
       " 'it',\n",
       " 'is',\n",
       " 'my',\n",
       " 'dream',\n",
       " 'to',\n",
       " 'meed',\n",
       " 'Sachin',\n",
       " '.']"
      ]
     },
     "execution_count": 4,
     "metadata": {},
     "output_type": "execute_result"
    }
   ],
   "source": [
    "words"
   ]
  },
  {
   "cell_type": "code",
   "execution_count": 5,
   "id": "eff6adf8",
   "metadata": {},
   "outputs": [],
   "source": [
    "tagged_words = pos_tag(words)"
   ]
  },
  {
   "cell_type": "code",
   "execution_count": 6,
   "id": "dbc4d68b",
   "metadata": {},
   "outputs": [
    {
     "data": {
      "text/plain": [
       "[('My', 'PRP$'),\n",
       " ('love', 'NN'),\n",
       " ('to', 'TO'),\n",
       " ('play', 'VB'),\n",
       " ('cricket', 'NN'),\n",
       " ('.', '.'),\n",
       " ('it', 'PRP'),\n",
       " ('is', 'VBZ'),\n",
       " ('my', 'PRP$'),\n",
       " ('dream', 'NN'),\n",
       " ('to', 'TO'),\n",
       " ('meed', 'VB'),\n",
       " ('Sachin', 'NNP'),\n",
       " ('.', '.')]"
      ]
     },
     "execution_count": 6,
     "metadata": {},
     "output_type": "execute_result"
    }
   ],
   "source": [
    "tagged_words"
   ]
  },
  {
   "cell_type": "code",
   "execution_count": 8,
   "id": "5afc1007",
   "metadata": {},
   "outputs": [],
   "source": [
    "import nltk\n",
    "from nltk.tokenize import word_tokenize\n",
    "from nltk.tag import pos_tag\n",
    "\n",
    "def count_pos_tags(text):\n",
    "    # Tokenize the text into words\n",
    "    words = word_tokenize(text)\n",
    "    \n",
    "    # part-of-speech tags\n",
    "    tagged_words = pos_tag(words)\n",
    "    \n",
    "    # lets take count for each part-of-speech is zer0\n",
    "    counts = {\n",
    "        'nouns': 0,\n",
    "        'pronouns': 0,\n",
    "        'verbs': 0,\n",
    "        'adjectives': 0\n",
    "    }\n",
    "    \n",
    "    # Iterate over tagged words and count the respective parts-of-speech\n",
    "    for word, tag in tagged_words:\n",
    "        if tag.startswith('NN'):\n",
    "            counts['nouns'] += 1\n",
    "        elif tag.startswith('PRP'):\n",
    "            counts['pronouns'] += 1\n",
    "        elif tag.startswith('VB'):\n",
    "            counts['verbs'] += 1\n",
    "        elif tag.startswith('JJ'):\n",
    "            counts['adjectives'] += 1\n",
    "    \n",
    "    return print(counts)"
   ]
  },
  {
   "cell_type": "code",
   "execution_count": 11,
   "id": "8c25d1a2",
   "metadata": {},
   "outputs": [],
   "source": [
    "text = \"The old man sat alone on the park bench. He watched the children play and smiled. The colorful flowers swayed in the gentle breeze. Birds chirped happily in the trees, adding to the peaceful atmosphere.\""
   ]
  },
  {
   "cell_type": "code",
   "execution_count": 13,
   "id": "fae86609",
   "metadata": {},
   "outputs": [
    {
     "name": "stdout",
     "output_type": "stream",
     "text": [
      "{'nouns': 9, 'pronouns': 1, 'verbs': 7, 'adjectives': 3}\n"
     ]
    }
   ],
   "source": [
    "count_pos_tags(text)"
   ]
  },
  {
   "cell_type": "code",
   "execution_count": null,
   "id": "1c406a10",
   "metadata": {},
   "outputs": [],
   "source": []
  },
  {
   "cell_type": "code",
   "execution_count": null,
   "id": "41327fae",
   "metadata": {},
   "outputs": [],
   "source": []
  },
  {
   "cell_type": "code",
   "execution_count": null,
   "id": "e9d3dd69",
   "metadata": {},
   "outputs": [],
   "source": []
  },
  {
   "cell_type": "code",
   "execution_count": null,
   "id": "a4a4f65c",
   "metadata": {},
   "outputs": [],
   "source": []
  },
  {
   "cell_type": "code",
   "execution_count": null,
   "id": "449cb054",
   "metadata": {},
   "outputs": [],
   "source": []
  },
  {
   "cell_type": "code",
   "execution_count": null,
   "id": "226fca70",
   "metadata": {},
   "outputs": [],
   "source": []
  },
  {
   "cell_type": "code",
   "execution_count": null,
   "id": "1818aa54",
   "metadata": {},
   "outputs": [],
   "source": []
  },
  {
   "cell_type": "code",
   "execution_count": null,
   "id": "220711aa",
   "metadata": {},
   "outputs": [],
   "source": []
  }
 ],
 "metadata": {
  "kernelspec": {
   "display_name": "Python 3 (ipykernel)",
   "language": "python",
   "name": "python3"
  },
  "language_info": {
   "codemirror_mode": {
    "name": "ipython",
    "version": 3
   },
   "file_extension": ".py",
   "mimetype": "text/x-python",
   "name": "python",
   "nbconvert_exporter": "python",
   "pygments_lexer": "ipython3",
   "version": "3.9.10"
  }
 },
 "nbformat": 4,
 "nbformat_minor": 5
}
