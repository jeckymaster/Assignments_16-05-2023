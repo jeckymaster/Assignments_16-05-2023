{
 "cells": [
  {
   "cell_type": "markdown",
   "id": "ba28b9b2",
   "metadata": {},
   "source": [
    "Given the score of students in multiple exams\n",
    "\n",
    "- datafrmae given\n",
    "\n",
    "- Name = ['Karan', 'Deepa', 'Karthik', 'Chandan', 'Jeevan']\n",
    "- Exam_1 = [85, 70, 90, 75, 95]\n",
    "- Exam_2 = [90, 80, 85, 70, 92]\n",
    "- Final_Exam = [92, 85, 88, 75, 96]\n",
    "\n",
    "Test the hypothesis that the mean scores of all the students are the same. If not, name the student with the highest score."
   ]
  },
  {
   "cell_type": "code",
   "execution_count": 2,
   "id": "174bc649",
   "metadata": {},
   "outputs": [],
   "source": [
    "import pandas as pd\n",
    "import scipy.stats as stats\n",
    "\n",
    "# Create the dataframe\n",
    "df = pd.DataFrame({\n",
    "    'Name': ['Karan', 'Deepa', 'Karthik', 'Chandan', 'Jeevan'],\n",
    "    'Exam_1': [85, 70, 90, 75, 95],\n",
    "    'Exam_2': [90, 80, 85, 70, 92],\n",
    "    'Final_Exam': [92, 85, 88, 75, 96]\n",
    "})"
   ]
  },
  {
   "cell_type": "code",
   "execution_count": 4,
   "id": "e81af460",
   "metadata": {},
   "outputs": [],
   "source": [
    "# one way ANOVA test (Analysis of Variance)\n",
    "fvalue, pvalue = stats.f_oneway(df['Exam_1'], df['Exam_2'], df['Final_Exam']) "
   ]
  },
  {
   "cell_type": "code",
   "execution_count": 10,
   "id": "82a73e9f",
   "metadata": {},
   "outputs": [
    {
     "name": "stdout",
     "output_type": "stream",
     "text": [
      "F Statistic: 0.3236947791164659\n",
      "p-value: 0.7295954253321558\n"
     ]
    }
   ],
   "source": [
    "print(\"F Statistic:\", fvalue)\n",
    "print(\"p-value:\", pvalue)"
   ]
  },
  {
   "cell_type": "code",
   "execution_count": 13,
   "id": "27592ddb",
   "metadata": {},
   "outputs": [
    {
     "name": "stdout",
     "output_type": "stream",
     "text": [
      "The mean scores of all the students are not the same.\n"
     ]
    }
   ],
   "source": [
    "alpha = 0.05  # Significance level\n",
    "\n",
    "if pvalue < alpha:\n",
    "    print(\"The mean scores of all the students are the same.\")\n",
    "else:\n",
    "    print(\"The mean scores of all the students are not the same.\")"
   ]
  },
  {
   "cell_type": "code",
   "execution_count": 16,
   "id": "e9d3db38",
   "metadata": {},
   "outputs": [
    {
     "name": "stdout",
     "output_type": "stream",
     "text": [
      "The student with the highest score is: Jeevan\n"
     ]
    }
   ],
   "source": [
    "student_highest_score = df['Name'][df['Final_Exam'].idxmax()]\n",
    "print(\"The student with the highest score is:\", student_highest_score)\n"
   ]
  },
  {
   "cell_type": "code",
   "execution_count": null,
   "id": "56eb3b8a",
   "metadata": {},
   "outputs": [],
   "source": []
  }
 ],
 "metadata": {
  "kernelspec": {
   "display_name": "Python 3 (ipykernel)",
   "language": "python",
   "name": "python3"
  },
  "language_info": {
   "codemirror_mode": {
    "name": "ipython",
    "version": 3
   },
   "file_extension": ".py",
   "mimetype": "text/x-python",
   "name": "python",
   "nbconvert_exporter": "python",
   "pygments_lexer": "ipython3",
   "version": "3.9.10"
  }
 },
 "nbformat": 4,
 "nbformat_minor": 5
}
