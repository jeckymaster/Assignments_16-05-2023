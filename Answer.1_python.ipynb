{
 "cells": [
  {
   "cell_type": "markdown",
   "id": "d688f3bc",
   "metadata": {},
   "source": [
    "Question 1: -\n",
    "Write a program that takes a string as input, and counts the frequency of each word in the string, there might be repeated characters in the string. Your task is to find the highest frequency and returns the length of the highest-frequency word.\n",
    "\n",
    "    Note - You have to write at least 2 additional test cases in which your program will run successfully and provide an explanation for the same.\n",
    "        Example input - string = “write write write all the number from from from 1 to 100”\n",
    "        Example output - 5\n",
    "        Explanation - From the given string we can note that the most frequent words are “write” and “from” and the maximum value of both the values is “write” and its corresponding length is 5"
   ]
  },
  {
   "cell_type": "code",
   "execution_count": 21,
   "id": "f429651e",
   "metadata": {},
   "outputs": [],
   "source": [
    "def count_freq_of_word(string):\n",
    "    words = string.split() # taking of all words of given string\n",
    "    freq_of_words = {}\n",
    "    for i in words:\n",
    "        if i in freq_of_words:\n",
    "            freq_of_words[i] += 1  # if word is already there then increment count\n",
    "        else:\n",
    "            freq_of_words[i] = 1 # if word is not there then give 1st count\n",
    "    \n",
    "    word_of_high_freq = max(freq_of_words, key=freq_of_words.get)   # getting max frequncy word\n",
    "    output = len(word_of_high_freq)   # getting the length of max frequency word\n",
    "    print(f\"The highest frequent word is :{word_of_high_freq}\")\n",
    "    print(f\"The length of highest frequent word is :{output}\")\n",
    "    return\n",
    "    "
   ]
  },
  {
   "cell_type": "code",
   "execution_count": 22,
   "id": "1b8118f0",
   "metadata": {},
   "outputs": [
    {
     "name": "stdout",
     "output_type": "stream",
     "text": [
      "The highest frequent word is :write\n",
      "The length of highest frequent word is :5\n"
     ]
    }
   ],
   "source": [
    "string = \"write write write all the number from from from 1 to 100\"\n",
    "count_freq_of_word(string)"
   ]
  },
  {
   "cell_type": "code",
   "execution_count": 27,
   "id": "afe47b68",
   "metadata": {},
   "outputs": [
    {
     "name": "stdout",
     "output_type": "stream",
     "text": [
      "The highest frequent word is :iNeuron\n",
      "The length of highest frequent word is :7\n"
     ]
    }
   ],
   "source": [
    "string = \"iNeuron iNeuron iNeuron is giving good good good good knowledge to all all all students of iNeuron\"\n",
    "count_freq_of_word(string)"
   ]
  },
  {
   "cell_type": "markdown",
   "id": "a97907e3",
   "metadata": {},
   "source": [
    "Explanation - From the given string we can note that the most frequent words are “iNeuron” and “good” and the maximum value of both the values is “iNeuron” and its corresponding length is 7"
   ]
  },
  {
   "cell_type": "code",
   "execution_count": 26,
   "id": "338865ee",
   "metadata": {},
   "outputs": [
    {
     "name": "stdout",
     "output_type": "stream",
     "text": [
      "The highest frequent word is :falling\n",
      "The length of highest frequent word is :7\n"
     ]
    }
   ],
   "source": [
    "string = \"London bridge is falling down falling down falling down London bridge is falling down my fair lady\"\n",
    "count_freq_of_word(string)"
   ]
  },
  {
   "cell_type": "markdown",
   "id": "7a4ed94b",
   "metadata": {},
   "source": [
    "Explanation - From the given string we can note that the most frequent words are “falling” and “down” and the maximum value of both the values is “falling” and its corresponding length is 7"
   ]
  }
 ],
 "metadata": {
  "kernelspec": {
   "display_name": "Python 3 (ipykernel)",
   "language": "python",
   "name": "python3"
  },
  "language_info": {
   "codemirror_mode": {
    "name": "ipython",
    "version": 3
   },
   "file_extension": ".py",
   "mimetype": "text/x-python",
   "name": "python",
   "nbconvert_exporter": "python",
   "pygments_lexer": "ipython3",
   "version": "3.9.10"
  }
 },
 "nbformat": 4,
 "nbformat_minor": 5
}
