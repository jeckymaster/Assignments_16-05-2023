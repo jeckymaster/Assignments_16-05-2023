{
 "cells": [
  {
   "cell_type": "markdown",
   "id": "84874a51",
   "metadata": {},
   "source": [
    "Consider a string to be valid if all characters of the string appear the same number of times. It is also valid if he can remove just one character at the index in the string, and the remaining characters will occur the same number of times. Given a string, determine if it is valid. If so, return YES, otherwise return NO.\n",
    "\n",
    "Note - You have to write at least 2 additional test cases in which your program will run successfully and provide an explanation for the same.\n",
    "Example input 1 - s = “abc”. This is a valid string because frequencies are { “a”: 1, “b”: 1, “c”: 1 }\n",
    "Example output 1- YES\n",
    "Example input 2 - s “abcc”. This string is not valid as we can remove only 1 occurrence of “c”. That leaves character frequencies of { “a”: 1, “b”: 1 , “c”: 2 }\n",
    "Example output 2 - NO"
   ]
  },
  {
   "cell_type": "code",
   "execution_count": 61,
   "id": "b677b2ee",
   "metadata": {},
   "outputs": [],
   "source": [
    "from collections import Counter\n",
    "\n",
    "def is_string_valid(string):\n",
    "    char_freq = Counter(string)      # it count the character and make a dictionary from it.\n",
    "    freq_each_char=list(char_freq.values()) # create a list of frequency of each character.\n",
    "    distinct_freq = set(freq_each_char)\n",
    "    mini = min(freq_each_char)\n",
    "    count_min_char = freq_each_char.count(mini)\n",
    "    \n",
    "    if len(distinct_freq) == 1: \n",
    "        return \"Yes\" # if frequecies are same then string is valid\n",
    "    \n",
    "    elif len(distinct_freq) > 2:\n",
    "        return \"No\" # if more than two frequencies are different then string is not valid\n",
    "    \n",
    "    elif count_min_char == 1 and mini == 1:\n",
    "        return \"Yes\" # Removing character with frequency of 1, so string is valid\n",
    "     \n",
    "    return \"No\" # above all not ok then string is not valid"
   ]
  },
  {
   "cell_type": "code",
   "execution_count": 62,
   "id": "46435a1e",
   "metadata": {},
   "outputs": [
    {
     "data": {
      "text/plain": [
       "'Yes'"
      ]
     },
     "execution_count": 62,
     "metadata": {},
     "output_type": "execute_result"
    }
   ],
   "source": [
    "string = \"abc\"\n",
    "is_string_valid(string)"
   ]
  },
  {
   "cell_type": "markdown",
   "id": "294a4993",
   "metadata": {},
   "source": [
    "Example input 1 - string = “abc”. This is a valid string because frequencies are { “a”: 1, “b”: 1, “c”: 1 }\n",
    "Example output 1- YES"
   ]
  },
  {
   "cell_type": "code",
   "execution_count": 67,
   "id": "179abdaa",
   "metadata": {},
   "outputs": [
    {
     "data": {
      "text/plain": [
       "'No'"
      ]
     },
     "execution_count": 67,
     "metadata": {},
     "output_type": "execute_result"
    }
   ],
   "source": [
    "string = \"abcc\"\n",
    "is_string_valid(string)"
   ]
  },
  {
   "cell_type": "markdown",
   "id": "776abe91",
   "metadata": {},
   "source": [
    "Example input 2 - string = “abcc”. This string is not valid as we can remove only 1 occurrence of “c”. That leaves character frequencies of { “a”: 1, “b”: 1 , “c”: 2 }\n",
    "Example output 2 - NO"
   ]
  },
  {
   "cell_type": "code",
   "execution_count": 66,
   "id": "f8694b86",
   "metadata": {},
   "outputs": [
    {
     "data": {
      "text/plain": [
       "'No'"
      ]
     },
     "execution_count": 66,
     "metadata": {},
     "output_type": "execute_result"
    }
   ],
   "source": [
    "string = \"aabbccc\"\n",
    "is_string_valid(string)"
   ]
  },
  {
   "cell_type": "markdown",
   "id": "7c7c6307",
   "metadata": {},
   "source": [
    "Example input 3 - string = “aabbccc”. This string is not valid as we can remove only 1 occurrence of “c”. That leaves character frequencies of { “a”: 2, “b”: 2 , “c”: 3 }\n",
    "Example output 3 - NO"
   ]
  },
  {
   "cell_type": "code",
   "execution_count": 69,
   "id": "938a6dc2",
   "metadata": {},
   "outputs": [
    {
     "data": {
      "text/plain": [
       "'No'"
      ]
     },
     "execution_count": 69,
     "metadata": {},
     "output_type": "execute_result"
    }
   ],
   "source": [
    "string = \"abcdeab\"\n",
    "is_string_valid(string)"
   ]
  },
  {
   "cell_type": "markdown",
   "id": "9499f1a2",
   "metadata": {},
   "source": [
    "Example input 4 - string = “abcdeab”. This string is not valid as we can remove only 1 character but there are more than two different frequncies in the string. That leaves character frequencies of { “a”: 2, “b”: 2 , “c”: 1 , \"d\":1}\n",
    "Example output 4 - NO"
   ]
  }
 ],
 "metadata": {
  "kernelspec": {
   "display_name": "Python 3 (ipykernel)",
   "language": "python",
   "name": "python3"
  },
  "language_info": {
   "codemirror_mode": {
    "name": "ipython",
    "version": 3
   },
   "file_extension": ".py",
   "mimetype": "text/x-python",
   "name": "python",
   "nbconvert_exporter": "python",
   "pygments_lexer": "ipython3",
   "version": "3.9.10"
  }
 },
 "nbformat": 4,
 "nbformat_minor": 5
}
